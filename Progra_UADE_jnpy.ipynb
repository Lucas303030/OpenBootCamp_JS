{
  "nbformat": 4,
  "nbformat_minor": 0,
  "metadata": {
    "colab": {
      "provenance": [],
      "authorship_tag": "ABX9TyPGIlsz/xxwlSGYDDmgQwcO",
      "include_colab_link": true
    },
    "kernelspec": {
      "name": "python3",
      "display_name": "Python 3"
    },
    "language_info": {
      "name": "python"
    }
  },
  "cells": [
    {
      "cell_type": "markdown",
      "metadata": {
        "id": "view-in-github",
        "colab_type": "text"
      },
      "source": [
        "<a href=\"https://colab.research.google.com/github/Lucas303030/OpenBootCamp_JS/blob/main/Progra_UADE_jnpy.ipynb\" target=\"_parent\"><img src=\"https://colab.research.google.com/assets/colab-badge.svg\" alt=\"Open In Colab\"/></a>"
      ]
    },
    {
      "cell_type": "code",
      "source": [
        "import csv\n",
        "import os\n",
        "import random\n",
        "import pandas\n",
        "import tabulate"
      ],
      "metadata": {
        "id": "QWGjKqy342E9"
      },
      "execution_count": null,
      "outputs": []
    },
    {
      "cell_type": "code",
      "execution_count": null,
      "metadata": {
        "id": "cWyrZ_AK0XAR"
      },
      "outputs": [],
      "source": [
        "def ing_cliente():\n",
        "  nombre_cliente = input(\"Ingrese nombre de cliente: \")\n",
        "  pass"
      ]
    },
    {
      "cell_type": "code",
      "source": [
        "def ing_proveedor():\n",
        "  nombre_proveedor = input(\"Ingrese nombre de proveedor: \")\n",
        "  pass"
      ],
      "metadata": {
        "id": "XtRF_7rZ3p5s"
      },
      "execution_count": null,
      "outputs": []
    },
    {
      "cell_type": "code",
      "source": [
        "def ing_prod_valor():\n",
        "  valor_prod = float(input(\"Ingrese precio: \"))\n",
        "  pass"
      ],
      "metadata": {
        "id": "pzJ-h-4T4QRd"
      },
      "execution_count": null,
      "outputs": []
    },
    {
      "cell_type": "code",
      "source": [
        "def ing_prod_cant():\n",
        "  cant_prod = float(input(\"Ingrese precio: \"))\n",
        "  pass"
      ],
      "metadata": {
        "id": "yP7febVa4dJD"
      },
      "execution_count": null,
      "outputs": []
    },
    {
      "cell_type": "code",
      "source": [
        "def main_menu():\n",
        "    opciones_main = [\n",
        "        \"1- Ingresar cliente\",\n",
        "        \"2- Ingresar proveedor\",\n",
        "        \"3- Ingresar precio de producto\",\n",
        "        \"4- Ingresar stock\",\n",
        "        \"5- Actualizar precios\",\n",
        "        \"6- Actualizar stock\",\n",
        "        \"7- Actualizar proveedores\",\n",
        "    ]\n",
        "\n",
        "    for opcion in opciones_main:\n",
        "        print(opcion)\n",
        "\n",
        "    while True:\n",
        "        try:\n",
        "            choice = int(input(\"Seleccione una opción (1-7): \"))\n",
        "\n",
        "\n",
        "            if 1 <= choice <= 7:\n",
        "                break\n",
        "            else:\n",
        "                print(\"Opción fuera de rango. Por favor, seleccione una opción válida (1-7).\")\n",
        "        except ValueError:\n",
        "            print(\"Entrada inválida. Ingrese un número del 1 al 7.\")\n",
        "\n",
        "    if choice == 1:\n",
        "        ing_cliente()\n",
        "    elif choice == 2:\n",
        "        ing_proveedor()\n",
        "    elif choice == 3:\n",
        "        ing_prod_valor()\n",
        "    elif choice == 4:\n",
        "        pass\n",
        "    elif choice == 5:\n",
        "        pass\n",
        "    elif choice == 6:\n",
        "        ing_prod_cant()\n",
        "        pass\n",
        "    elif choice == 7:\n",
        "        pass\n",
        "    else:\n",
        "        print(\"Opción no válida\")\n"
      ],
      "metadata": {
        "id": "K_T1J4K1OnPD"
      },
      "execution_count": null,
      "outputs": []
    },
    {
      "cell_type": "code",
      "source": [
        "main_menu()"
      ],
      "metadata": {
        "id": "pPFMuktdOwUu"
      },
      "execution_count": null,
      "outputs": []
    }
  ]
}